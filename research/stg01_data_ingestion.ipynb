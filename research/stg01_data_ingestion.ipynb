{
 "cells": [
  {
   "cell_type": "code",
   "execution_count": 5,
   "metadata": {},
   "outputs": [],
   "source": [
    "import os\n",
    "from pathlib import Path\n",
    "os.chdir(Path(\"E:\\FSDS_NOV\\ML-WaferFault-Detection\"))"
   ]
  },
  {
   "cell_type": "code",
   "execution_count": 6,
   "metadata": {},
   "outputs": [],
   "source": [
    "from collections import namedtuple\n",
    "from waferFaultDetection.constants import *\n",
    "from waferFaultDetection.utils import read_yaml,create_directories\n",
    "from waferFaultDetection import logger"
   ]
  },
  {
   "cell_type": "code",
   "execution_count": 7,
   "metadata": {},
   "outputs": [],
   "source": [
    "from dataclasses import dataclass\n",
    "from pathlib import Path\n",
    "\n",
    "@dataclass(frozen=True)\n",
    "class DataIngestionConfig:\n",
    "    '''\n",
    "    Define the resources required for the data ingestion\n",
    "    such as URL, dataset file name, directory details\n",
    "    '''\n",
    "    root_dir: Path\n",
    "    source_URL: str\n",
    "    local_data_file: Path\n",
    "    unzip_dir: Path\n",
    "    model_input_file: Path\n",
    "    \n",
    "# DataIngestionConfig = namedtuple(\"DataIngestionConfig\",[\n",
    "#     \"root_dir\",\n",
    "#     \"source_URL\",\n",
    "#     \"local_data_file\",\n",
    "#     \"unzip_dir\"\n",
    "# ])"
   ]
  },
  {
   "cell_type": "code",
   "execution_count": 8,
   "metadata": {},
   "outputs": [],
   "source": [
    "from waferFaultDetection import logger\n",
    "class ConfigurationManager:\n",
    "    def __init__(\n",
    "        self,\n",
    "        config_filepath = CONFIG_FILE_PATH,\n",
    "        params_filepath = PARAMS_FILE_PATH\n",
    "        ):\n",
    "\n",
    "        logger.info(\"reading yaml files for configs and parameters\")\n",
    "        self.config = read_yaml(config_filepath)\n",
    "        self.params = read_yaml(params_filepath)\n",
    "        logger.info(\"creating directory for artifacts\")\n",
    "        create_directories([self.config.artifacts_root])\n",
    "        logger.info(\"artifacts directory created\")\n",
    "\n",
    "    def get_data_ingestion_config(self) -> DataIngestionConfig:\n",
    "        config = self.config.data_ingestion\n",
    "        logger.info(\"creating data ingestion root directory\")\n",
    "        create_directories([config.root_dir])\n",
    "\n",
    "        logger.info('creating data ingestion configuration')\n",
    "        data_ingestion_config = DataIngestionConfig(\n",
    "            root_dir = config.root_dir,\n",
    "            source_URL=config.source_URL,\n",
    "            local_data_file=config.local_data_file,\n",
    "            unzip_dir=config.unzip_dir,\n",
    "            model_input_file= config.model_input_file\n",
    "        )\n",
    "        return data_ingestion_config\n",
    "\n",
    "    "
   ]
  },
  {
   "cell_type": "code",
   "execution_count": 9,
   "metadata": {},
   "outputs": [],
   "source": [
    "import os,shutil,re\n",
    "import urllib.request as request\n",
    "from zipfile import ZipFile\n",
    "import json\n",
    "from kaggle.api.kaggle_api_extended import KaggleApi\n",
    "from waferFaultDetection import logger\n",
    "from waferFaultDetection.constants import *\n",
    "from tqdm import tqdm\n",
    "import pandas as pd\n",
    "\n",
    "\n",
    "class DataIngestion:\n",
    "    def __init__(\n",
    "        self,\n",
    "        config:DataIngestionConfig\n",
    "    ):\n",
    "        self.config = config\n",
    "\n",
    "    def download_file(self):\n",
    "        if not os.path.exists(self.config.local_data_file):\n",
    "            try:\n",
    "                logger.info(\"downloading a dataset ...\")\n",
    "                filename, headers = request.urlretrieve(\n",
    "                    url = self.config.source_URL,\n",
    "                    filename = self.config.local_data_file\n",
    "                )\n",
    "                logger.info('dataset download completed')\n",
    "            except Exception as e:\n",
    "                logger.info('dataset download failed')\n",
    "                raise e\n",
    "\n",
    "    def download_kaggle_dataset(self):\n",
    "        if not os.path.exists(self.config.local_data_file):\n",
    "            try:\n",
    "                logger.info(\"downloading a dataset ...\")\n",
    "                # Opening JSON file\n",
    "                with open(KAGGLE_JSON_PATH) as json_file:\n",
    "                    data = json.load(json_file)\n",
    "\n",
    "                os.environ['KAGGLE_USERNAME']=data['username']\n",
    "                os.environ['KAGGLE_KEY']=data['key']\n",
    "\n",
    "                api = KaggleApi()\n",
    "                api.authenticate()\n",
    "                api.dataset_download_files(self.config.source_URL, path=self.config.unzip_dir)\n",
    "                logger.info(\"dataset download completed successfully\")\n",
    "            except Exception as e:\n",
    "                logger.info('dataset download failed')\n",
    "                raise e\n",
    "    \n",
    "    def _get_updated_list_of_files(self,list_of_files):\n",
    "        logger.info('considers only .csv files from dataset zip file')\n",
    "        return [f for f in list_of_files if f.endswith('.csv')]\n",
    "    \n",
    "    def _preprocess(self,zf:ZipFile,f:str,working_dir:str):\n",
    "        target_filepath = os.path.join(working_dir,f)\n",
    "        if not os.path.exists(target_filepath):\n",
    "            zf.extract(f,working_dir)\n",
    "\n",
    "        if os.path.getsize(target_filepath) == 0:\n",
    "            os.remove(target_filepath)\n",
    "    \n",
    "    def unzip_and_clean(self):\n",
    "        try:\n",
    "            logger.info('unzipping dataset file started')\n",
    "            with ZipFile(file=self.config.local_data_file,mode=\"r\") as zf:\n",
    "                list_of_files = zf.namelist()\n",
    "                updated_list_of_files = self._get_updated_list_of_files(list_of_files)\n",
    "                logger.info('pre-processing the dataset zip file and extraction starts')\n",
    "                for f in updated_list_of_files:\n",
    "                    self._preprocess(zf,f,self.config.unzip_dir)\n",
    "                logger.info('zip file extraction completed')\n",
    "        except Exception as e:\n",
    "            raise e\n",
    "\n",
    "    def _create_schema_train(self):\n",
    "        root_dir = self.config.root_dir\n",
    "        schema_train_dict = {\n",
    "            \"SampleFileName\":\"wafer_31122020_000000.csv\",\n",
    "            \"LengthOfDateStamp\":8,\n",
    "            \"LengthOfTimeStamp\":6,\n",
    "            \"NumOfCols\":592,\n",
    "            \"Columns\":{}\n",
    "        }\n",
    "        numCols = schema_train_dict['NumOfCols']\n",
    "        for i in tqdm(range(numCols)):\n",
    "            if i == 0:\n",
    "                schema_train_dict['Columns']['wafer'] = \"str\"\n",
    "            elif i == numCols - 1:\n",
    "                schema_train_dict['Columns']['Output'] = \"int\"\n",
    "            else:\n",
    "                col = \"Sensor - \"+str(i)\n",
    "                schema_train_dict['Columns'][col] = \"float\"\n",
    "        json_out = os.path.join(root_dir,\"schema_train.json\")\n",
    "        # with open(json_out,\"w\") as outfile:\n",
    "        #     json.dump(schema_train_dict,outfile)\n",
    "        return schema_train_dict\n",
    "        \n",
    "\n",
    "    def validate_file_names(self):\n",
    "        root_dir = self.config.root_dir\n",
    "        # dirpath,dirnames,list_of_files = os.walk(root_dir)\n",
    "        logger.info(\"Finding the training files directory\")\n",
    "        try:\n",
    "            dirs = [f for f in os.listdir(root_dir) if 'train' in f.lower()]\n",
    "            if len(dirs) == 1:\n",
    "                train_dir = os.path.join(root_dir,dirs[0])\n",
    "            else:\n",
    "                raise ValueError(print(dirs))\n",
    "            logger.info(\"Finding the training data with .csv extension\")\n",
    "            list_of_files = [f for f in os.listdir(train_dir) if f.endswith('.csv')]\n",
    "            good_files_dir = Path(os.path.join(train_dir,\"good_files_dir\"))\n",
    "            bad_files_dir = Path(os.path.join(train_dir,\"bad_files_dir\"))\n",
    "            logger.info(\"Creating good and bad files directories\")\n",
    "            if not os.path.exists(good_files_dir):\n",
    "                os.makedirs(good_files_dir)\n",
    "            if not os.path.exists(bad_files_dir):\n",
    "                os.makedirs(bad_files_dir)\n",
    "            logger.info(\"Validation of file names started >>>>>>>>>>>>>>>\")\n",
    "            logger.info(\"Compare file names and move them to good or bad files directory\")\n",
    "            regex = 'wafer_'+\"\\d{8}\"+\"_\"+\"\\d{6}\"+\".csv\"\n",
    "            for file in list_of_files:\n",
    "                # dir,fname = os.path.split(file)\n",
    "                if re.match(regex,file.lower()):\n",
    "                    shutil.move(os.path.join(train_dir,file),os.path.join(good_files_dir,file))\n",
    "                else:\n",
    "                    shutil.move(os.path.join(train_dir,file),os.path.join(bad_files_dir,file))\n",
    "            logger.info(\"Validation of file names completed >>>>>>>>>>>>>>>\")\n",
    "            self.train_dir = train_dir\n",
    "            self.good_files_dir = good_files_dir\n",
    "            self.bad_files_dir = bad_files_dir\n",
    "        except OSError:\n",
    "            logger.info(\"OSError: Error validating file names and moving to bad_files_dir\")\n",
    "        except Exception as e:\n",
    "            logger.exception(e)\n",
    "            raise e\n",
    "\n",
    "    def validate_columns(self):\n",
    "        good_files_dir = self.good_files_dir\n",
    "        bad_files_dir = self.bad_files_dir\n",
    "        logger.info(\"create train data schema\")\n",
    "        schema_train_dict = self._create_schema_train()\n",
    "        logger.info(\"<<<<<<<<<<<<<< Validation of number of columns started >>>>>>>>>>>>>>>\")\n",
    "        logger.info(\"checking the number of columns in each file and moving to bad_files_dir if not met\")\n",
    "        try:\n",
    "            for file in tqdm(os.listdir(good_files_dir)):\n",
    "                # logger.info(f\"pandas reading file: {file} in {good_files_dir}\")\n",
    "                df = pd.read_csv(os.path.join(good_files_dir,file))\n",
    "                if not len(df.columns) == schema_train_dict['NumOfCols']:\n",
    "                    logger.info(f\"file: {file} moving into the bad_files_dir: length of columns: {len(df.columns)} < {schema_train_dict['NumOfCols']}\")\n",
    "                    shutil.move(os.path.join(good_files_dir,file),os.path.join(bad_files_dir,file))\n",
    "                else:\n",
    "                    df.fillna('NULL',inplace=True)\n",
    "                    df_null = (df != 'NULL')\n",
    "                    # dfnull = df_null.sum(axis=0)\n",
    "                    dfnull = (df_null.sum(axis=0) == 0)\n",
    "                    if len(dfnull[dfnull == True].index) != 0:\n",
    "                        logger.info(f\"file: {file} moving into the bad_files_dir: file contains whole columns with missing values\")\n",
    "                        shutil.move(os.path.join(good_files_dir,file),os.path.join(bad_files_dir,file))\n",
    "                    else:\n",
    "                        # create csv files from df with updated NULL values\n",
    "                        df.rename(columns={\"Unnamed: 0\": \"Wafer\"}, inplace=True)\n",
    "                        fname = os.path.join(good_files_dir,file)\n",
    "                        df.to_csv(fname,index=False,header=True)\n",
    "            logger.info(\"<<<<<<<<<<<<<< Validation of number of columns completed >>>>>>>>>>>>>>>\")\n",
    "        except OSError:\n",
    "            logger.info(\"OSError: Error validating columns and moving to bad_files_dir\")\n",
    "        except Exception as e:\n",
    "            logger.exception(e)\n",
    "            raise e\n",
    "                    \n",
    "\n",
    "    def create_model_input_file(self):\n",
    "        logger.info(\"****************** creation of ML model input file started *******************\")\n",
    "        good_files_dir = self.good_files_dir\n",
    "        model_input_file = self.config.model_input_file\n",
    "        df = pd.DataFrame()\n",
    "        for file in os.listdir(good_files_dir):\n",
    "            file = os.path.join(good_files_dir,file)\n",
    "            df_csv = pd.read_csv(file)\n",
    "            df = pd.concat([df,df_csv],axis=0,ignore_index=True)\n",
    "        else:\n",
    "            df.to_csv(model_input_file,index=False)\n",
    "            logger.info(\"****************** creation of ML model input file completed *******************\")\n"
   ]
  },
  {
   "cell_type": "code",
   "execution_count": 11,
   "metadata": {},
   "outputs": [
    {
     "name": "stdout",
     "output_type": "stream",
     "text": [
      "[2022-12-21 09:39:45,249: INFO: 1241861786]: reading yaml files for configs and parameters\n",
      "[2022-12-21 09:39:46,891: INFO: common]: yaml file: configs\\config.yaml loaded successfully\n",
      "[2022-12-21 09:39:46,920: INFO: common]: yaml file: params.yaml loaded successfully\n",
      "[2022-12-21 09:39:46,921: INFO: 1241861786]: creating directory for artifacts\n",
      "[2022-12-21 09:39:46,952: INFO: common]: created directory at: artifacts\n",
      "[2022-12-21 09:39:46,952: INFO: 1241861786]: artifacts directory created\n",
      "[2022-12-21 09:39:46,953: INFO: 1241861786]: creating data ingestion root directory\n",
      "[2022-12-21 09:39:46,954: INFO: common]: created directory at: artifacts/data_ingestion\n",
      "[2022-12-21 09:39:46,955: INFO: 1241861786]: creating data ingestion configuration\n",
      "[2022-12-21 09:39:46,956: INFO: 3460695323]: downloading a dataset ...\n",
      "[2022-12-21 09:39:49,842: INFO: 3460695323]: dataset download completed successfully\n",
      "[2022-12-21 09:39:49,846: INFO: 3460695323]: unzipping dataset file started\n",
      "[2022-12-21 09:39:49,869: INFO: 3460695323]: considers only .csv files from dataset zip file\n",
      "[2022-12-21 09:39:49,870: INFO: 3460695323]: pre-processing the dataset zip file and extraction starts\n",
      "[2022-12-21 09:39:50,064: INFO: 3460695323]: zip file extraction completed\n",
      "[2022-12-21 09:39:50,066: INFO: 3460695323]: Finding the training files directory\n",
      "[2022-12-21 09:39:50,067: INFO: 3460695323]: Finding the training data with .csv extension\n",
      "[2022-12-21 09:39:50,067: INFO: 3460695323]: Creating good and bad files directories\n",
      "[2022-12-21 09:39:50,069: INFO: 3460695323]: Validation of file names started >>>>>>>>>>>>>>>\n",
      "[2022-12-21 09:39:50,071: INFO: 3460695323]: Compare file names and move them to good or bad files directory\n",
      "[2022-12-21 09:39:50,088: INFO: 3460695323]: Validation of file names completed >>>>>>>>>>>>>>>\n",
      "[2022-12-21 09:39:50,089: INFO: 3460695323]: create train data schema\n"
     ]
    },
    {
     "name": "stderr",
     "output_type": "stream",
     "text": [
      "100%|██████████| 592/592 [00:00<00:00, 566513.34it/s]"
     ]
    },
    {
     "name": "stdout",
     "output_type": "stream",
     "text": [
      "[2022-12-21 09:39:50,126: INFO: 3460695323]: <<<<<<<<<<<<<< Validation of number of columns started >>>>>>>>>>>>>>>\n",
      "[2022-12-21 09:39:50,126: INFO: 3460695323]: checking the number of columns in each file and moving to bad_files_dir if not met\n"
     ]
    },
    {
     "name": "stderr",
     "output_type": "stream",
     "text": [
      "\n",
      "  0%|          | 0/35 [00:00<?, ?it/s]"
     ]
    },
    {
     "name": "stdout",
     "output_type": "stream",
     "text": [
      "[2022-12-21 09:39:50,241: INFO: 3460695323]: file: Wafer_07012020_000000.csv moving into the bad_files_dir: length of columns: 591 < 592\n"
     ]
    },
    {
     "name": "stderr",
     "output_type": "stream",
     "text": [
      "  3%|▎         | 1/35 [00:00<00:03,  8.76it/s]"
     ]
    },
    {
     "name": "stdout",
     "output_type": "stream",
     "text": [
      "[2022-12-21 09:39:50,339: INFO: 3460695323]: file: wafer_07012020_041011.csv moving into the bad_files_dir: file contains whole columns with missing values\n",
      "[2022-12-21 09:39:50,370: INFO: 3460695323]: file: Wafer_07012020_223345.csv moving into the bad_files_dir: length of columns: 591 < 592\n"
     ]
    },
    {
     "name": "stderr",
     "output_type": "stream",
     "text": [
      "  9%|▊         | 3/35 [00:00<00:02, 12.97it/s]"
     ]
    },
    {
     "name": "stdout",
     "output_type": "stream",
     "text": [
      "[2022-12-21 09:39:50,402: INFO: 3460695323]: file: Wafer_08012020_120000.csv moving into the bad_files_dir: length of columns: 591 < 592\n",
      "[2022-12-21 09:39:50,437: INFO: 3460695323]: file: Wafer_10012020_131534.csv moving into the bad_files_dir: length of columns: 591 < 592\n",
      "[2022-12-21 09:39:50,469: INFO: 3460695323]: file: Wafer_11012020_151432.csv moving into the bad_files_dir: length of columns: 591 < 592\n",
      "[2022-12-21 09:39:50,503: INFO: 3460695323]: file: Wafer_12012020_111213.csv moving into the bad_files_dir: length of columns: 591 < 592\n"
     ]
    },
    {
     "name": "stderr",
     "output_type": "stream",
     "text": [
      " 20%|██        | 7/35 [00:00<00:01, 21.17it/s]"
     ]
    },
    {
     "name": "stdout",
     "output_type": "stream",
     "text": [
      "[2022-12-21 09:39:50,806: INFO: 3460695323]: file: Wafer_13012020_141000.csv moving into the bad_files_dir: length of columns: 591 < 592\n",
      "[2022-12-21 09:39:50,837: INFO: 3460695323]: file: Wafer_14012020_113045.csv moving into the bad_files_dir: length of columns: 591 < 592\n"
     ]
    },
    {
     "name": "stderr",
     "output_type": "stream",
     "text": [
      " 29%|██▊       | 10/35 [00:00<00:01, 13.48it/s]"
     ]
    },
    {
     "name": "stdout",
     "output_type": "stream",
     "text": [
      "[2022-12-21 09:39:50,869: INFO: 3460695323]: file: Wafer_15012020_130532.csv moving into the bad_files_dir: length of columns: 591 < 592\n"
     ]
    },
    {
     "name": "stderr",
     "output_type": "stream",
     "text": [
      " 34%|███▍      | 12/35 [00:00<00:02, 11.23it/s]"
     ]
    },
    {
     "name": "stdout",
     "output_type": "stream",
     "text": [
      "[2022-12-21 09:39:51,121: INFO: 3460695323]: file: wafer_16012020_134553.csv moving into the bad_files_dir: length of columns: 591 < 592\n",
      "[2022-12-21 09:39:51,150: INFO: 3460695323]: file: wafer_17012020_125434.csv moving into the bad_files_dir: length of columns: 591 < 592\n",
      "[2022-12-21 09:39:51,179: INFO: 3460695323]: file: Wafer_18012020_121532.csv moving into the bad_files_dir: length of columns: 591 < 592\n",
      "[2022-12-21 09:39:51,218: INFO: 3460695323]: file: Wafer_19012020_141432.csv moving into the bad_files_dir: length of columns: 591 < 592\n"
     ]
    },
    {
     "name": "stderr",
     "output_type": "stream",
     "text": [
      " 46%|████▌     | 16/35 [00:01<00:01, 15.71it/s]"
     ]
    },
    {
     "name": "stdout",
     "output_type": "stream",
     "text": [
      "[2022-12-21 09:39:51,321: INFO: 3460695323]: file: wafer_20012020_090819.csv moving into the bad_files_dir: file contains whole columns with missing values\n",
      "[2022-12-21 09:39:51,352: INFO: 3460695323]: file: Wafer_20012020_135132.csv moving into the bad_files_dir: length of columns: 591 < 592\n"
     ]
    },
    {
     "name": "stderr",
     "output_type": "stream",
     "text": [
      " 57%|█████▋    | 20/35 [00:01<00:01, 12.04it/s]"
     ]
    },
    {
     "name": "stdout",
     "output_type": "stream",
     "text": [
      "[2022-12-21 09:39:51,658: INFO: 3460695323]: file: Wafer_21012020_143634.csv moving into the bad_files_dir: length of columns: 591 < 592\n",
      "[2022-12-21 09:39:51,684: INFO: 3460695323]: file: Wafer_22012020_173245.csv moving into the bad_files_dir: length of columns: 591 < 592\n",
      "[2022-12-21 09:39:51,801: INFO: 3460695323]: file: wafer_22022020_041119.csv moving into the bad_files_dir: file contains whole columns with missing values\n"
     ]
    },
    {
     "name": "stderr",
     "output_type": "stream",
     "text": [
      " 66%|██████▌   | 23/35 [00:01<00:00, 13.48it/s]"
     ]
    },
    {
     "name": "stdout",
     "output_type": "stream",
     "text": [
      "[2022-12-21 09:39:51,929: INFO: 3460695323]: file: wafer_23012020_011008.csv moving into the bad_files_dir: file contains whole columns with missing values\n"
     ]
    },
    {
     "name": "stderr",
     "output_type": "stream",
     "text": [
      " 71%|███████▏  | 25/35 [00:01<00:00, 10.94it/s]"
     ]
    },
    {
     "name": "stdout",
     "output_type": "stream",
     "text": [
      "[2022-12-21 09:39:52,117: INFO: 3460695323]: file: Wafer_23012020_163456.csv moving into the bad_files_dir: length of columns: 563 < 592\n",
      "[2022-12-21 09:39:52,151: INFO: 3460695323]: file: Wafer_24012020_150121.csv moving into the bad_files_dir: length of columns: 591 < 592\n",
      "[2022-12-21 09:39:52,186: INFO: 3460695323]: file: Wafer_25012020_142112.csv moving into the bad_files_dir: length of columns: 591 < 592\n"
     ]
    },
    {
     "name": "stderr",
     "output_type": "stream",
     "text": [
      " 80%|████████  | 28/35 [00:02<00:00, 14.07it/s]"
     ]
    },
    {
     "name": "stdout",
     "output_type": "stream",
     "text": [
      "[2022-12-21 09:39:52,433: INFO: 3460695323]: file: wafer_28012020_051011.csv moving into the bad_files_dir: file contains whole columns with missing values\n"
     ]
    },
    {
     "name": "stderr",
     "output_type": "stream",
     "text": [
      " 91%|█████████▏| 32/35 [00:02<00:00,  9.57it/s]"
     ]
    },
    {
     "name": "stdout",
     "output_type": "stream",
     "text": [
      "[2022-12-21 09:39:53,106: INFO: 3460695323]: file: wafer_29012020_060756.csv moving into the bad_files_dir: file contains whole columns with missing values\n"
     ]
    },
    {
     "name": "stderr",
     "output_type": "stream",
     "text": [
      " 97%|█████████▋| 34/35 [00:02<00:00,  8.07it/s]"
     ]
    },
    {
     "name": "stdout",
     "output_type": "stream",
     "text": [
      "[2022-12-21 09:39:53,194: INFO: 3460695323]: file: wafer_31012020_090811.csv moving into the bad_files_dir: file contains whole columns with missing values\n"
     ]
    },
    {
     "name": "stderr",
     "output_type": "stream",
     "text": [
      "100%|██████████| 35/35 [00:03<00:00, 11.41it/s]"
     ]
    },
    {
     "name": "stdout",
     "output_type": "stream",
     "text": [
      "[2022-12-21 09:39:53,197: INFO: 3460695323]: <<<<<<<<<<<<<< Validation of number of columns completed >>>>>>>>>>>>>>>\n",
      "[2022-12-21 09:39:53,198: INFO: 3460695323]: ****************** creation of ML model input file started *******************\n"
     ]
    },
    {
     "name": "stderr",
     "output_type": "stream",
     "text": [
      "\n"
     ]
    },
    {
     "name": "stdout",
     "output_type": "stream",
     "text": [
      "[2022-12-21 09:39:53,911: INFO: 3460695323]: ****************** creation of ML model input file completed *******************\n"
     ]
    }
   ],
   "source": [
    "try:\n",
    "    config = ConfigurationManager()\n",
    "    data_ingestion_config = config.get_data_ingestion_config()\n",
    "    data_ingestion = DataIngestion(config=data_ingestion_config)\n",
    "    data_ingestion.download_kaggle_dataset()\n",
    "    data_ingestion.unzip_and_clean()\n",
    "    data_ingestion.validate_file_names()\n",
    "    data_ingestion.validate_columns()\n",
    "    data_ingestion.create_model_input_file()\n",
    "except Exception as e:\n",
    "    raise e\n"
   ]
  },
  {
   "cell_type": "code",
   "execution_count": null,
   "metadata": {},
   "outputs": [],
   "source": []
  }
 ],
 "metadata": {
  "kernelspec": {
   "display_name": "Python 3.8.13 (conda)",
   "language": "python",
   "name": "python3"
  },
  "language_info": {
   "codemirror_mode": {
    "name": "ipython",
    "version": 3
   },
   "file_extension": ".py",
   "mimetype": "text/x-python",
   "name": "python",
   "nbconvert_exporter": "python",
   "pygments_lexer": "ipython3",
   "version": "3.8.13 (default, Oct 19 2022, 22:38:03) [MSC v.1916 64 bit (AMD64)]"
  },
  "orig_nbformat": 4,
  "vscode": {
   "interpreter": {
    "hash": "26307cdd8260bd868184f67f182c2f8c81ec19bca50f3ee5e5c1717d66317ad9"
   }
  }
 },
 "nbformat": 4,
 "nbformat_minor": 2
}
