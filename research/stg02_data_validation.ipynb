{
 "cells": [
  {
   "cell_type": "code",
   "execution_count": 10,
   "metadata": {},
   "outputs": [],
   "source": [
    "import os\n",
    "from pathlib import Path\n",
    "os.chdir(Path(\"E:\\FSDS_NOV\\ML-WaferFault-Detection\"))"
   ]
  },
  {
   "cell_type": "code",
   "execution_count": 11,
   "metadata": {},
   "outputs": [],
   "source": [
    "from collections import namedtuple\n",
    "from waferFaultDetection.constants import *\n",
    "from waferFaultDetection.utils import read_yaml,create_directories\n",
    "from waferFaultDetection import logger"
   ]
  },
  {
   "cell_type": "code",
   "execution_count": 18,
   "metadata": {},
   "outputs": [],
   "source": [
    "from dataclasses import dataclass\n",
    "from pathlib import Path\n",
    "\n",
    "@dataclass(frozen=True)\n",
    "class DataIngestionConfig:\n",
    "    '''\n",
    "    Define the resources required for the data ingestion\n",
    "    such as URL, dataset file name, directory details\n",
    "    '''\n",
    "    root_dir: Path\n",
    "    source_URL: str\n",
    "    local_data_file: Path\n",
    "    unzip_dir: Path\n",
    "    \n",
    "# DataIngestionConfig = namedtuple(\"DataIngestionConfig\",[\n",
    "#     \"root_dir\",\n",
    "#     \"source_URL\",\n",
    "#     \"local_data_file\",\n",
    "#     \"unzip_dir\"\n",
    "# ])\n",
    "\n",
    "# @dataclass(frozen=True)\n",
    "# class DataValidationConfig:\n",
    "#     root_dir: Path"
   ]
  },
  {
   "cell_type": "code",
   "execution_count": 19,
   "metadata": {},
   "outputs": [],
   "source": [
    "from waferFaultDetection import logger\n",
    "class ConfigurationManager:\n",
    "    def __init__(\n",
    "        self,\n",
    "        config_filepath = CONFIG_FILE_PATH,\n",
    "        params_filepath = PARAMS_FILE_PATH\n",
    "        ):\n",
    "\n",
    "        logger.info(\"reading yaml files for configs and parameters\")\n",
    "        self.config = read_yaml(config_filepath)\n",
    "        self.params = read_yaml(params_filepath)\n",
    "        logger.info(\"creating directory for artifacts\")\n",
    "        create_directories([self.config.artifacts_root])\n",
    "        logger.info(\"artifacts directory created\")\n",
    "\n",
    "    def get_data_ingestion_config(self) -> DataIngestionConfig:\n",
    "        config = self.config.data_ingestion\n",
    "        logger.info(\"creating data ingestion root directory\")\n",
    "        create_directories([config.root_dir])\n",
    "\n",
    "        logger.info('creating data ingestion configuration')\n",
    "        data_ingestion_config = DataIngestionConfig(\n",
    "            root_dir = config.root_dir,\n",
    "            source_URL=config.source_URL,\n",
    "            local_data_file=config.local_data_file,\n",
    "            unzip_dir=config.unzip_dir\n",
    "        )\n",
    "        return data_ingestion_config\n",
    "\n",
    "    # def get_data_validation_config(self)->DataValidationConfig:\n",
    "    #     config = self.config.data_validation\n",
    "    #     logger.info('creating data validation configuration')\n",
    "    #     data_validation_config = DataValidationConfig(\n",
    "    #         root_dir=config.root_dir\n",
    "    #     )\n",
    "    #     return data_validation_config"
   ]
  },
  {
   "cell_type": "code",
   "execution_count": 20,
   "metadata": {},
   "outputs": [],
   "source": [
    "import os\n",
    "import json\n",
    "from waferFaultDetection import logger\n",
    "from tqdm import tqdm\n",
    "import re\n",
    "import shutil\n",
    "from pathlib import Path\n",
    "import pandas as pd\n",
    "\n",
    "\n",
    "class DataValidation:\n",
    "    def __init__(\n",
    "        self,\n",
    "        config:DataIngestionConfig\n",
    "        ):\n",
    "        self.config = config\n",
    "\n",
    "    def _create_schema_train(self):\n",
    "        root_dir = self.config.root_dir\n",
    "        schema_train_dict = {\n",
    "            \"SampleFileName\":\"wafer_31122020_000000.csv\",\n",
    "            \"LengthOfDateStamp\":8,\n",
    "            \"LengthOfTimeStamp\":6,\n",
    "            \"NumOfCols\":592,\n",
    "            \"Columns\":{}\n",
    "        }\n",
    "        numCols = schema_train_dict['NumOfCols']\n",
    "        for i in tqdm(range(numCols)):\n",
    "            if i == 0:\n",
    "                schema_train_dict['Columns']['wafer'] = \"str\"\n",
    "            elif i == numCols - 1:\n",
    "                schema_train_dict['Columns']['Output'] = \"int\"\n",
    "            else:\n",
    "                col = \"Sensor - \"+str(i)\n",
    "                schema_train_dict['Columns'][col] = \"float\"\n",
    "        json_out = os.path.join(root_dir,\"schema_train.json\")\n",
    "        # with open(json_out,\"w\") as outfile:\n",
    "        #     json.dump(schema_train_dict,outfile)\n",
    "        return schema_train_dict\n",
    "        \n",
    "\n",
    "    def _validate_file_names(self):\n",
    "        root_dir = self.config.root_dir\n",
    "        # dirpath,dirnames,list_of_files = os.walk(root_dir)\n",
    "        logger.info(\"Finding the training files directory\")\n",
    "        dirs = [f for f in os.listdir(root_dir) if 'train' in f.lower()]\n",
    "        if len(dirs) == 1:\n",
    "            train_dir = os.path.join(root_dir,dirs[0])\n",
    "        else:\n",
    "            raise ValueError(print(dirs))\n",
    "        logger.info(\"Finding the training data with .csv extension\")\n",
    "        list_of_files = [f for f in os.listdir(train_dir) if f.endswith('.csv')]\n",
    "        good_files_dir = Path(os.path.join(train_dir,\"good_files_dir\"))\n",
    "        bad_files_dir = Path(os.path.join(train_dir,\"bad_files_dir\"))\n",
    "        logger.info(\"Creating good and bad files directories\")\n",
    "        if not os.path.exists(good_files_dir):\n",
    "            os.makedirs(good_files_dir)\n",
    "        if not os.path.exists(bad_files_dir):\n",
    "            os.makedirs(bad_files_dir)\n",
    "        logger.info(\"Compare file names and move them to good or bad files directory\")\n",
    "        regex = 'wafer_'+\"\\d{8}\"+\"_\"+\"\\d{6}\"+\".csv\"\n",
    "        for file in tqdm(list_of_files):\n",
    "            # dir,fname = os.path.split(file)\n",
    "            if re.match(regex,file.lower()):\n",
    "                shutil.move(os.path.join(train_dir,file),os.path.join(good_files_dir,file))\n",
    "            else:\n",
    "                shutil.move(os.path.join(train_dir,file),os.path.join(bad_files_dir,file))\n",
    "\n",
    "        self.train_dir = train_dir\n",
    "        self.good_files_dir = good_files_dir\n",
    "        self.bad_files_dir = bad_files_dir\n",
    "\n",
    "    def _validate_columns(self):\n",
    "        good_files_dir = self.good_files_dir\n",
    "        bad_files_dir = self.bad_files_dir\n",
    "        logger.info(\"create train data schema\")\n",
    "        schema_train_dict = self._create_schema_train()\n",
    "        logger.info(\"checking the number of columns in each file and moving to bad_files_dir if not met\")\n",
    "        for file in tqdm(os.listdir(good_files_dir)):\n",
    "            # logger.info(f\"pandas reading file: {file} in {good_files_dir}\")\n",
    "            df = pd.read_csv(os.path.join(good_files_dir,file))\n",
    "            if not len(df.columns) == schema_train_dict['NumOfCols']:\n",
    "                logger.info(f\"file: {file} moving into the bad_files_dir\")\n",
    "                shutil.move(os.path.join(good_files_dir,file),os.path.join(bad_files_dir,file))\n",
    "            else:\n",
    "                pass\n",
    "\n",
    "\n"
   ]
  },
  {
   "cell_type": "code",
   "execution_count": 21,
   "metadata": {},
   "outputs": [
    {
     "name": "stdout",
     "output_type": "stream",
     "text": [
      "[2022-12-21 08:59:25,653: INFO: 2872640451]: reading yaml files for configs and parameters\n",
      "[2022-12-21 08:59:25,657: INFO: common]: yaml file: configs\\config.yaml loaded successfully\n",
      "[2022-12-21 08:59:25,659: INFO: common]: yaml file: params.yaml loaded successfully\n",
      "[2022-12-21 08:59:25,660: INFO: 2872640451]: creating directory for artifacts\n",
      "[2022-12-21 08:59:25,662: INFO: common]: created directory at: artifacts\n",
      "[2022-12-21 08:59:25,664: INFO: 2872640451]: artifacts directory created\n",
      "[2022-12-21 08:59:25,664: INFO: 2872640451]: creating data ingestion root directory\n",
      "[2022-12-21 08:59:25,666: INFO: common]: created directory at: artifacts/data_ingestion\n",
      "[2022-12-21 08:59:25,667: INFO: 2872640451]: creating data ingestion configuration\n",
      "[2022-12-21 08:59:25,668: INFO: 4797932]: Finding the training files directory\n",
      "[2022-12-21 08:59:25,668: INFO: 4797932]: Finding the training data with .csv extension\n",
      "[2022-12-21 08:59:25,670: INFO: 4797932]: Creating good and bad files directories\n",
      "[2022-12-21 08:59:25,670: INFO: 4797932]: Compare file names and move them to good or bad files directory\n"
     ]
    },
    {
     "name": "stderr",
     "output_type": "stream",
     "text": [
      "0it [00:00, ?it/s]"
     ]
    },
    {
     "name": "stdout",
     "output_type": "stream",
     "text": [
      "[2022-12-21 08:59:25,674: INFO: 4797932]: create train data schema\n"
     ]
    },
    {
     "name": "stderr",
     "output_type": "stream",
     "text": [
      "\n",
      "100%|██████████| 592/592 [00:00<00:00, 435237.15it/s]"
     ]
    },
    {
     "name": "stdout",
     "output_type": "stream",
     "text": [
      "[2022-12-21 08:59:25,677: INFO: 4797932]: checking the number of columns in each file and moving to bad_files_dir if not met\n"
     ]
    },
    {
     "name": "stderr",
     "output_type": "stream",
     "text": [
      "\n",
      "100%|██████████| 9/9 [00:00<00:00, 27.14it/s]\n"
     ]
    }
   ],
   "source": [
    "try:\n",
    "    config = ConfigurationManager()\n",
    "    data_validation_config = config.get_data_ingestion_config() \n",
    "    data_validation = DataValidation(config=data_validation_config)\n",
    "    data_validation._validate_file_names()\n",
    "    data_validation._validate_columns()\n",
    "except Exception as e:\n",
    "    raise e"
   ]
  },
  {
   "cell_type": "code",
   "execution_count": null,
   "metadata": {},
   "outputs": [],
   "source": []
  }
 ],
 "metadata": {
  "kernelspec": {
   "display_name": "Python 3.8.13 (conda)",
   "language": "python",
   "name": "python3"
  },
  "language_info": {
   "codemirror_mode": {
    "name": "ipython",
    "version": 3
   },
   "file_extension": ".py",
   "mimetype": "text/x-python",
   "name": "python",
   "nbconvert_exporter": "python",
   "pygments_lexer": "ipython3",
   "version": "3.8.13 (default, Oct 19 2022, 22:38:03) [MSC v.1916 64 bit (AMD64)]"
  },
  "orig_nbformat": 4,
  "vscode": {
   "interpreter": {
    "hash": "26307cdd8260bd868184f67f182c2f8c81ec19bca50f3ee5e5c1717d66317ad9"
   }
  }
 },
 "nbformat": 4,
 "nbformat_minor": 2
}
