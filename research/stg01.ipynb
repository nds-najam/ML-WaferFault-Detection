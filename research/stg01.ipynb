{
 "cells": [
  {
   "cell_type": "code",
   "execution_count": 41,
   "metadata": {},
   "outputs": [],
   "source": [
    "import os\n",
    "from pathlib import Path\n",
    "os.chdir(Path(\"E:\\FSDS_NOV\\ML-WaferFault-Detection\"))"
   ]
  },
  {
   "cell_type": "code",
   "execution_count": 54,
   "metadata": {},
   "outputs": [],
   "source": [
    "from collections import namedtuple\n",
    "from waferFaultDetection.constants import *\n",
    "from waferFaultDetection.utils import read_yaml,create_directories\n",
    "from waferFaultDetection import logger"
   ]
  },
  {
   "cell_type": "code",
   "execution_count": 43,
   "metadata": {},
   "outputs": [],
   "source": [
    "from dataclasses import dataclass\n",
    "from pathlib import Path\n",
    "\n",
    "@dataclass(frozen=True)\n",
    "class DataIngestionConfig:\n",
    "    '''\n",
    "    Define the resources required for the data ingestion\n",
    "    such as URL, dataset file name, directory details\n",
    "    '''\n",
    "    root_dir: Path\n",
    "    source_URL: str\n",
    "    local_data_file: Path\n",
    "    unzip_dir: Path\n",
    "    \n",
    "# DataIngestionConfig = namedtuple(\"DataIngestionConfig\",[\n",
    "#     \"root_dir\",\n",
    "#     \"source_URL\",\n",
    "#     \"local_data_file\",\n",
    "#     \"unzip_dir\"\n",
    "# ])"
   ]
  },
  {
   "cell_type": "code",
   "execution_count": 44,
   "metadata": {},
   "outputs": [],
   "source": [
    "from waferFaultDetection import logger\n",
    "class ConfigurationManager:\n",
    "    def __init__(\n",
    "        self,\n",
    "        config_filepath = CONFIG_FILE_PATH,\n",
    "        params_filepath = PARAMS_FILE_PATH\n",
    "        ):\n",
    "\n",
    "        logger.info(\"reading yaml files for configs and parameters\")\n",
    "        self.config = read_yaml(config_filepath)\n",
    "        self.params = read_yaml(params_filepath)\n",
    "        logger.info(\"creating directory for artifacts\")\n",
    "        create_directories([self.config.artifacts_root])\n",
    "        logger.info(\"artifacts directory created\")\n",
    "\n",
    "    def get_data_ingestion_config(self) -> DataIngestionConfig:\n",
    "        config = self.config.data_ingestion\n",
    "        logger.info(\"creating data ingestion root directory\")\n",
    "        create_directories([config.root_dir])\n",
    "\n",
    "        logger.info('creating data ingestion configuration')\n",
    "        data_ingestion_config = DataIngestionConfig(\n",
    "            root_dir = config.root_dir,\n",
    "            source_URL=config.source_URL,\n",
    "            local_data_file=config.local_data_file,\n",
    "            unzip_dir=config.unzip_dir\n",
    "        )\n",
    "\n",
    "        return data_ingestion_config\n"
   ]
  },
  {
   "cell_type": "code",
   "execution_count": 48,
   "metadata": {},
   "outputs": [],
   "source": [
    "import os\n",
    "import urllib.request as request\n",
    "from zipfile import ZipFile\n",
    "import json\n",
    "import kaggle\n",
    "from waferFaultDetection import logger\n",
    "\n",
    "class DataIngestion:\n",
    "    def __init__(\n",
    "        self,\n",
    "        config:DataIngestionConfig\n",
    "    ):\n",
    "        self.config = config\n",
    "\n",
    "    def download_file(self):\n",
    "        if not os.path.exists(self.config.local_data_file):\n",
    "            try:\n",
    "                logger.info(\"downloading a dataset ...\")\n",
    "                filename, headers = request.urlretrieve(\n",
    "                    url = self.config.source_URL,\n",
    "                    filename = self.config.local_data_file\n",
    "                )\n",
    "                logger.info('dataset download completed')\n",
    "            except Exception as e:\n",
    "                logger.info('dataset download failed')\n",
    "                raise e\n",
    "\n",
    "    def download_kaggle_dataset(self):\n",
    "        if not os.path.exists(self.config.local_data_file):\n",
    "            try:\n",
    "                logger.info(\"downloading a dataset ...\")\n",
    "                # importing the module\n",
    "                import json\n",
    "                import os\n",
    "                import kaggle\n",
    "\n",
    "                # Opening JSON file\n",
    "                with open(r'C:\\Users\\Najam\\.kaggle\\kaggle.json') as json_file:\n",
    "                    data = json.load(json_file)\n",
    "\n",
    "                os.environ['KAGGLE_USERNAME']=data['username']\n",
    "                os.environ['KAGGLE_KEY']=data['key']\n",
    "\n",
    "\n",
    "                from kaggle.api.kaggle_api_extended import KaggleApi\n",
    "                api = KaggleApi()\n",
    "                api.authenticate()\n",
    "                api.dataset_download_files(self.config.source_URL, path=self.config.unzip_dir)\n",
    "                logger.info(\"dataset download completed successfully\")\n",
    "            except Exception as e:\n",
    "                logger.info('dataset download failed')\n",
    "                raise e\n",
    "    \n",
    "    def _get_updated_list_of_files(self,list_of_files):\n",
    "        logger.info('considers only .csv files from dataset zip file')\n",
    "        return [f for f in list_of_files if f.endswith('.csv')]\n",
    "\n",
    "    def _preprocess(self,zf:ZipFile,f:str,working_dir:str):\n",
    "        target_filepath = os.path.join(working_dir,f)\n",
    "        if not os.path.exists(target_filepath):\n",
    "            zf.extract(f,working_dir)\n",
    "\n",
    "        if os.path.getsize(target_filepath) == 0:\n",
    "            os.remove(target_filepath)\n",
    "    \n",
    "    def unzip_and_clean(self):\n",
    "        try:\n",
    "            logger.info('unzipping dataset file started')\n",
    "            with ZipFile(file=self.config.local_data_file,mode=\"r\") as zf:\n",
    "                list_of_files = zf.namelist()\n",
    "                updated_list_of_files = self._get_updated_list_of_files(list_of_files)\n",
    "                logger.info('pre-processing the dataset zip file and extraction starts')\n",
    "                for f in updated_list_of_files:\n",
    "                    self._preprocess(zf,f,self.config.unzip_dir)\n",
    "                logger.info('zip file extraction completed')\n",
    "        except Exception as e:\n",
    "            raise e"
   ]
  },
  {
   "cell_type": "code",
   "execution_count": 52,
   "metadata": {},
   "outputs": [],
   "source": [
    "from pathlib import Path\n",
    "\n",
    "with ZipFile(file=Path('./artifacts/data_ingestion/waferdataset.zip'),mode=\"r\") as zf:\n",
    "    list_of_files = zf.namelist()\n",
    "    # updated_list_of_files = self._get_updated_list_of_files(list_of_files)\n",
    "    # for f in updated_list_of_files:\n",
    "    #     self._preprocess(zf,f,self.config.unzip_dir)"
   ]
  },
  {
   "cell_type": "code",
   "execution_count": 53,
   "metadata": {},
   "outputs": [
    {
     "data": {
      "text/plain": [
       "['Prediction_Batch_files/Wafer_13012020_141000.csv',\n",
       " 'Prediction_Batch_files/Wafer_14012020_113045.csv',\n",
       " 'Prediction_Batch_files/Wafer_15010_130532.csv',\n",
       " 'Prediction_Batch_files/wafer_07012020_041011.csv',\n",
       " 'Prediction_Batch_files/wafer_13012020_090817.csv',\n",
       " 'Prediction_Batch_files/wafer_16012020_051629.csv',\n",
       " 'Prediction_Batch_files/wafer_20012020_090819.csv',\n",
       " 'Prediction_Batch_files/wafer_20022020_090716.csv',\n",
       " 'Prediction_Batch_files/wafer_21012020_080913.csv',\n",
       " 'Prediction_Batch_files/wafer_22022020_041119.csv',\n",
       " 'Prediction_Batch_files/wafer_23012020_011008.csv',\n",
       " 'Prediction_Batch_files/wafer_23012020_041211.csv',\n",
       " 'Prediction_Batch_files/wafer_27012020_080911.csv',\n",
       " 'Prediction_Batch_files/wafer_28012020_051011.csv',\n",
       " 'Prediction_Batch_files/wafer_28012020_090817.csv',\n",
       " 'Prediction_Batch_files/wafer_28042020_031911.csv',\n",
       " 'Prediction_Batch_files/wafer_29012020_050617.csv',\n",
       " 'Prediction_Batch_files/wafer_29012020_060756.csv',\n",
       " 'Prediction_Batch_files/wafer_31012020_090811.csv',\n",
       " 'Training_Batch_Files/Wafer12_20012.csv',\n",
       " 'Training_Batch_Files/Wafer_07012020_000000.csv',\n",
       " 'Training_Batch_Files/Wafer_07012020_223345.csv',\n",
       " 'Training_Batch_Files/Wafer_08012020_120000.csv',\n",
       " 'Training_Batch_Files/Wafer_10012020_131534.csv',\n",
       " 'Training_Batch_Files/Wafer_11012020_151432.csv',\n",
       " 'Training_Batch_Files/Wafer_12012020_111.csv',\n",
       " 'Training_Batch_Files/Wafer_12012020_111213.csv',\n",
       " 'Training_Batch_Files/Wafer_13012020_141000.csv',\n",
       " 'Training_Batch_Files/Wafer_14012020_113045.csv',\n",
       " 'Training_Batch_Files/Wafer_15010_130532.csv',\n",
       " 'Training_Batch_Files/Wafer_15012020_130532.csv',\n",
       " 'Training_Batch_Files/Wafer_18012020_121532.csv',\n",
       " 'Training_Batch_Files/Wafer_19012020_141432.csv',\n",
       " 'Training_Batch_Files/Wafer_20012020_135132.csv',\n",
       " 'Training_Batch_Files/Wafer_21012020_143634.csv',\n",
       " 'Training_Batch_Files/Wafer_22012020_173245.csv',\n",
       " 'Training_Batch_Files/Wafer_23012020_163456.csv',\n",
       " 'Training_Batch_Files/Wafer_24012020_150121.csv',\n",
       " 'Training_Batch_Files/Wafer_25012020_142112.csv',\n",
       " 'Training_Batch_Files/Wafer_fault_detection.csv',\n",
       " 'Training_Batch_Files/Wafer_text_130532.csv',\n",
       " 'Training_Batch_Files/Waferdefault_15010_130532.csv',\n",
       " 'Training_Batch_Files/wafer_07012020_041011.csv',\n",
       " 'Training_Batch_Files/wafer_13012020_090817.csv',\n",
       " 'Training_Batch_Files/wafer_16012020_051629.csv',\n",
       " 'Training_Batch_Files/wafer_16012020_134553.csv',\n",
       " 'Training_Batch_Files/wafer_17012020_125434.csv',\n",
       " 'Training_Batch_Files/wafer_20012020_090819.csv',\n",
       " 'Training_Batch_Files/wafer_20022020_090716.csv',\n",
       " 'Training_Batch_Files/wafer_21012020_080913.csv',\n",
       " 'Training_Batch_Files/wafer_22022020_041119.csv',\n",
       " 'Training_Batch_Files/wafer_23012020_011008.csv',\n",
       " 'Training_Batch_Files/wafer_23012020_041211.csv',\n",
       " 'Training_Batch_Files/wafer_27012020_080911.csv',\n",
       " 'Training_Batch_Files/wafer_28012020_051011.csv',\n",
       " 'Training_Batch_Files/wafer_28012020_090817.csv',\n",
       " 'Training_Batch_Files/wafer_28042020_031911.csv',\n",
       " 'Training_Batch_Files/wafer_29012020_050617.csv',\n",
       " 'Training_Batch_Files/wafer_29012020_060756.csv',\n",
       " 'Training_Batch_Files/wafer_31012020_090811.csv']"
      ]
     },
     "execution_count": 53,
     "metadata": {},
     "output_type": "execute_result"
    }
   ],
   "source": [
    "list_of_files"
   ]
  },
  {
   "cell_type": "code",
   "execution_count": 49,
   "metadata": {},
   "outputs": [
    {
     "name": "stdout",
     "output_type": "stream",
     "text": [
      "[2022-11-17 22:06:15,173: INFO: common]: yaml file: configs\\config.yaml loaded successfully\n",
      "[2022-11-17 22:06:15,175: INFO: common]: yaml file: params.yaml loaded successfully\n",
      "[2022-11-17 22:06:15,176: INFO: common]: created directory at: artifacts\n",
      "[2022-11-17 22:06:15,178: INFO: common]: created directory at: artifacts/data_ingestion\n"
     ]
    }
   ],
   "source": [
    "try:\n",
    "    config = ConfigurationManager()\n",
    "    data_ingestion_config = config.get_data_ingestion_config()\n",
    "    data_ingestion = DataIngestion(config=data_ingestion_config)\n",
    "    data_ingestion.download_kaggle_dataset()\n",
    "    # data_ingestion.unzip_and_clean()\n",
    "except Exception as e:\n",
    "    raise e\n"
   ]
  },
  {
   "cell_type": "code",
   "execution_count": 20,
   "metadata": {},
   "outputs": [
    {
     "data": {
      "text/plain": [
       "__main__.DataIngestionConfig"
      ]
     },
     "execution_count": 20,
     "metadata": {},
     "output_type": "execute_result"
    }
   ],
   "source": [
    "type(data_ingestion_config)"
   ]
  },
  {
   "cell_type": "code",
   "execution_count": null,
   "metadata": {},
   "outputs": [],
   "source": [
    "\n",
    "In trees.py:\n",
    "\n"
   ]
  }
 ],
 "metadata": {
  "kernelspec": {
   "display_name": "Python 3.8.13 (conda)",
   "language": "python",
   "name": "python3"
  },
  "language_info": {
   "codemirror_mode": {
    "name": "ipython",
    "version": 3
   },
   "file_extension": ".py",
   "mimetype": "text/x-python",
   "name": "python",
   "nbconvert_exporter": "python",
   "pygments_lexer": "ipython3",
   "version": "3.8.13"
  },
  "orig_nbformat": 4,
  "vscode": {
   "interpreter": {
    "hash": "26307cdd8260bd868184f67f182c2f8c81ec19bca50f3ee5e5c1717d66317ad9"
   }
  }
 },
 "nbformat": 4,
 "nbformat_minor": 2
}
