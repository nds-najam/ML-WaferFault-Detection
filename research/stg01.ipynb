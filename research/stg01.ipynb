{
 "cells": [
  {
   "cell_type": "code",
   "execution_count": 63,
   "metadata": {},
   "outputs": [],
   "source": [
    "import os\n",
    "from pathlib import Path\n",
    "os.chdir(Path(\"E:\\FSDS_NOV\\ML-WaferFault-Detection\"))"
   ]
  },
  {
   "cell_type": "code",
   "execution_count": 64,
   "metadata": {},
   "outputs": [],
   "source": [
    "from collections import namedtuple\n",
    "from waferFaultDetection.constants import *\n",
    "from waferFaultDetection.utils import read_yaml,create_directories\n",
    "from waferFaultDetection import logger"
   ]
  },
  {
   "cell_type": "code",
   "execution_count": 65,
   "metadata": {},
   "outputs": [],
   "source": [
    "from dataclasses import dataclass\n",
    "from pathlib import Path\n",
    "\n",
    "@dataclass(frozen=True)\n",
    "class DataIngestionConfig:\n",
    "    '''\n",
    "    Define the resources required for the data ingestion\n",
    "    such as URL, dataset file name, directory details\n",
    "    '''\n",
    "    root_dir: Path\n",
    "    source_URL: str\n",
    "    local_data_file: Path\n",
    "    unzip_dir: Path\n",
    "    \n",
    "# DataIngestionConfig = namedtuple(\"DataIngestionConfig\",[\n",
    "#     \"root_dir\",\n",
    "#     \"source_URL\",\n",
    "#     \"local_data_file\",\n",
    "#     \"unzip_dir\"\n",
    "# ])"
   ]
  },
  {
   "cell_type": "code",
   "execution_count": 66,
   "metadata": {},
   "outputs": [],
   "source": [
    "from waferFaultDetection import logger\n",
    "class ConfigurationManager:\n",
    "    def __init__(\n",
    "        self,\n",
    "        config_filepath = CONFIG_FILE_PATH,\n",
    "        params_filepath = PARAMS_FILE_PATH\n",
    "        ):\n",
    "\n",
    "        logger.info(\"reading yaml files for configs and parameters\")\n",
    "        self.config = read_yaml(config_filepath)\n",
    "        self.params = read_yaml(params_filepath)\n",
    "        logger.info(\"creating directory for artifacts\")\n",
    "        create_directories([self.config.artifacts_root])\n",
    "        logger.info(\"artifacts directory created\")\n",
    "\n",
    "    def get_data_ingestion_config(self) -> DataIngestionConfig:\n",
    "        config = self.config.data_ingestion\n",
    "        logger.info(\"creating data ingestion root directory\")\n",
    "        create_directories([config.root_dir])\n",
    "\n",
    "        logger.info('creating data ingestion configuration')\n",
    "        data_ingestion_config = DataIngestionConfig(\n",
    "            root_dir = config.root_dir,\n",
    "            source_URL=config.source_URL,\n",
    "            local_data_file=config.local_data_file,\n",
    "            unzip_dir=config.unzip_dir\n",
    "        )\n",
    "\n",
    "        return data_ingestion_config\n"
   ]
  },
  {
   "cell_type": "code",
   "execution_count": 70,
   "metadata": {},
   "outputs": [],
   "source": [
    "import os\n",
    "import urllib.request as request\n",
    "from zipfile import ZipFile\n",
    "import json\n",
    "from kaggle.api.kaggle_api_extended import KaggleApi\n",
    "from waferFaultDetection import logger\n",
    "from waferFaultDetection.constants import *\n",
    "\n",
    "class DataIngestion:\n",
    "    def __init__(\n",
    "        self,\n",
    "        config:DataIngestionConfig\n",
    "    ):\n",
    "        self.config = config\n",
    "\n",
    "    def download_file(self):\n",
    "        if not os.path.exists(self.config.local_data_file):\n",
    "            try:\n",
    "                logger.info(\"downloading a dataset ...\")\n",
    "                filename, headers = request.urlretrieve(\n",
    "                    url = self.config.source_URL,\n",
    "                    filename = self.config.local_data_file\n",
    "                )\n",
    "                logger.info('dataset download completed')\n",
    "            except Exception as e:\n",
    "                logger.info('dataset download failed')\n",
    "                raise e\n",
    "\n",
    "    def download_kaggle_dataset(self):\n",
    "        if not os.path.exists(self.config.local_data_file):\n",
    "            try:\n",
    "                logger.info(\"downloading a dataset ...\")\n",
    "                # Opening JSON file\n",
    "                with open(KAGGLE_JSON_PATH) as json_file:\n",
    "                    data = json.load(json_file)\n",
    "\n",
    "                os.environ['KAGGLE_USERNAME']=data['username']\n",
    "                os.environ['KAGGLE_KEY']=data['key']\n",
    "\n",
    "                api = KaggleApi()\n",
    "                api.authenticate()\n",
    "                api.dataset_download_files(self.config.source_URL, path=self.config.unzip_dir)\n",
    "                logger.info(\"dataset download completed successfully\")\n",
    "            except Exception as e:\n",
    "                logger.info('dataset download failed')\n",
    "                raise e\n",
    "    \n",
    "    def _get_updated_list_of_files(self,list_of_files):\n",
    "        logger.info('considers only .csv files from dataset zip file')\n",
    "        return [f for f in list_of_files if f.endswith('.csv')]\n",
    "    \n",
    "    def _preprocess(self,zf:ZipFile,f:str,working_dir:str):\n",
    "        target_filepath = os.path.join(working_dir,f)\n",
    "        if not os.path.exists(target_filepath):\n",
    "            zf.extract(f,working_dir)\n",
    "\n",
    "        if os.path.getsize(target_filepath) == 0:\n",
    "            os.remove(target_filepath)\n",
    "    \n",
    "    def unzip_and_clean(self):\n",
    "        try:\n",
    "            logger.info('unzipping dataset file started')\n",
    "            with ZipFile(file=self.config.local_data_file,mode=\"r\") as zf:\n",
    "                list_of_files = zf.namelist()\n",
    "                updated_list_of_files = self._get_updated_list_of_files(list_of_files)\n",
    "                logger.info('pre-processing the dataset zip file and extraction starts')\n",
    "                for f in updated_list_of_files:\n",
    "                    self._preprocess(zf,f,self.config.unzip_dir)\n",
    "                logger.info('zip file extraction completed')\n",
    "        except Exception as e:\n",
    "            raise e"
   ]
  },
  {
   "cell_type": "code",
   "execution_count": 71,
   "metadata": {},
   "outputs": [
    {
     "name": "stdout",
     "output_type": "stream",
     "text": [
      "[2022-11-18 09:44:34,758: INFO: 11695115]: reading yaml files for configs and parameters\n",
      "[2022-11-18 09:44:34,768: INFO: common]: yaml file: configs\\config.yaml loaded successfully\n",
      "[2022-11-18 09:44:34,772: INFO: common]: yaml file: params.yaml loaded successfully\n",
      "[2022-11-18 09:44:34,774: INFO: 11695115]: creating directory for artifacts\n",
      "[2022-11-18 09:44:34,777: INFO: common]: created directory at: artifacts\n",
      "[2022-11-18 09:44:34,779: INFO: 11695115]: artifacts directory created\n",
      "[2022-11-18 09:44:34,780: INFO: 11695115]: creating data ingestion root directory\n",
      "[2022-11-18 09:44:34,783: INFO: common]: created directory at: artifacts/data_ingestion\n",
      "[2022-11-18 09:44:34,784: INFO: 11695115]: creating data ingestion configuration\n",
      "[2022-11-18 09:44:34,786: INFO: 13684153]: unzipping dataset file started\n",
      "[2022-11-18 09:44:34,912: INFO: 13684153]: considers only .csv files from dataset zip file\n",
      "[2022-11-18 09:44:34,913: INFO: 13684153]: pre-processing the dataset zip file and extraction starts\n",
      "[2022-11-18 09:44:35,206: INFO: 13684153]: zip file extraction completed\n"
     ]
    }
   ],
   "source": [
    "try:\n",
    "    config = ConfigurationManager()\n",
    "    data_ingestion_config = config.get_data_ingestion_config()\n",
    "    data_ingestion = DataIngestion(config=data_ingestion_config)\n",
    "    data_ingestion.download_kaggle_dataset()\n",
    "    data_ingestion.unzip_and_clean()\n",
    "except Exception as e:\n",
    "    raise e\n"
   ]
  },
  {
   "cell_type": "code",
   "execution_count": 20,
   "metadata": {},
   "outputs": [
    {
     "data": {
      "text/plain": [
       "__main__.DataIngestionConfig"
      ]
     },
     "execution_count": 20,
     "metadata": {},
     "output_type": "execute_result"
    }
   ],
   "source": [
    "type(data_ingestion_config)"
   ]
  },
  {
   "cell_type": "code",
   "execution_count": 56,
   "metadata": {},
   "outputs": [
    {
     "data": {
      "text/plain": [
       "3"
      ]
     },
     "execution_count": 56,
     "metadata": {},
     "output_type": "execute_result"
    }
   ],
   "source": [
    "a = 100\n",
    "len(str(a))"
   ]
  },
  {
   "cell_type": "code",
   "execution_count": null,
   "metadata": {},
   "outputs": [],
   "source": []
  }
 ],
 "metadata": {
  "kernelspec": {
   "display_name": "Python 3.8.13 (conda)",
   "language": "python",
   "name": "python3"
  },
  "language_info": {
   "codemirror_mode": {
    "name": "ipython",
    "version": 3
   },
   "file_extension": ".py",
   "mimetype": "text/x-python",
   "name": "python",
   "nbconvert_exporter": "python",
   "pygments_lexer": "ipython3",
   "version": "3.8.13"
  },
  "orig_nbformat": 4,
  "vscode": {
   "interpreter": {
    "hash": "26307cdd8260bd868184f67f182c2f8c81ec19bca50f3ee5e5c1717d66317ad9"
   }
  }
 },
 "nbformat": 4,
 "nbformat_minor": 2
}
