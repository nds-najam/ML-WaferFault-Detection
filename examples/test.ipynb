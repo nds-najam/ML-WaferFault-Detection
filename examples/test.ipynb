{
 "cells": [
  {
   "cell_type": "code",
   "execution_count": 8,
   "metadata": {},
   "outputs": [],
   "source": [
    "import urllib.request as request\n",
    "filename, headers = request.urlretrieve(\n",
    "                url = 'https://www.kaggle.com/datasets/himanshunayal/waferdataset/download?datasetVersionNumber=1',\n",
    "                filename = 'test.zip'\n",
    "            )"
   ]
  },
  {
   "cell_type": "code",
   "execution_count": 5,
   "metadata": {},
   "outputs": [
    {
     "data": {
      "text/plain": [
       "'e:\\\\FSDS_NOV\\\\ML-WaferFault-Detection\\\\examples'"
      ]
     },
     "execution_count": 5,
     "metadata": {},
     "output_type": "execute_result"
    }
   ],
   "source": [
    "import os; os.getcwd()"
   ]
  },
  {
   "cell_type": "code",
   "execution_count": 6,
   "metadata": {},
   "outputs": [],
   "source": [
    "from tqdm import tqdm\n",
    "import requests\n",
    "\n",
    "url = \"https://www.kaggle.com/datasets/himanshunayal/waferdataset/download?datasetVersionNumber=1\"\n",
    "response = requests.get(url, stream=True)\n",
    "\n",
    "# with open(\"10MB\", \"wb\") as handle:\n",
    "#     for data in tqdm(response.iter_content()):\n",
    "#         handle.write(data)"
   ]
  },
  {
   "cell_type": "code",
   "execution_count": 3,
   "metadata": {},
   "outputs": [
    {
     "name": "stdout",
     "output_type": "stream",
     "text": [
      "Downloading waferdataset.zip to E:\\FSDS_NOV\\ML-WaferFault-Detection\\artifacts\\data_ingestion\n",
      "\n"
     ]
    },
    {
     "name": "stderr",
     "output_type": "stream",
     "text": [
      "\n",
      "  0%|          | 0.00/7.39M [00:00<?, ?B/s]\n",
      " 14%|█▎        | 1.00M/7.39M [00:00<00:00, 9.54MB/s]\n",
      " 27%|██▋       | 2.00M/7.39M [00:00<00:00, 8.75MB/s]\n",
      " 68%|██████▊   | 5.00M/7.39M [00:00<00:00, 17.5MB/s]\n",
      "100%|██████████| 7.39M/7.39M [00:00<00:00, 18.8MB/s]\n"
     ]
    }
   ],
   "source": [
    "# importing the module\n",
    "import json\n",
    "import os\n",
    "import kaggle\n",
    "\n",
    "# Opening JSON file\n",
    "with open(r'C:\\Users\\Najam\\.kaggle\\kaggle.json') as json_file:\n",
    "    data = json.load(json_file)\n",
    "\n",
    "os.environ['KAGGLE_USERNAME']=data['username']\n",
    "os.environ['KAGGLE_KEY']=data['key']\n",
    "!kaggle datasets download himanshunayal/waferdataset -p \"E:\\FSDS_NOV\\ML-WaferFault-Detection\\artifacts\\data_ingestion\""
   ]
  },
  {
   "cell_type": "code",
   "execution_count": 1,
   "metadata": {},
   "outputs": [
    {
     "name": "stdout",
     "output_type": "stream",
     "text": [
      "waferdataset.zip: Skipping, found more recently modified local copy (use --force to force download)\n"
     ]
    }
   ],
   "source": [
    "import kaggle\n",
    "!kaggle datasets download himanshunayal/waferdataset"
   ]
  },
  {
   "cell_type": "code",
   "execution_count": null,
   "metadata": {},
   "outputs": [],
   "source": []
  }
 ],
 "metadata": {
  "kernelspec": {
   "display_name": "Python 3.8.13 (conda)",
   "language": "python",
   "name": "python3"
  },
  "language_info": {
   "codemirror_mode": {
    "name": "ipython",
    "version": 3
   },
   "file_extension": ".py",
   "mimetype": "text/x-python",
   "name": "python",
   "nbconvert_exporter": "python",
   "pygments_lexer": "ipython3",
   "version": "3.8.13"
  },
  "orig_nbformat": 4,
  "vscode": {
   "interpreter": {
    "hash": "26307cdd8260bd868184f67f182c2f8c81ec19bca50f3ee5e5c1717d66317ad9"
   }
  }
 },
 "nbformat": 4,
 "nbformat_minor": 2
}
